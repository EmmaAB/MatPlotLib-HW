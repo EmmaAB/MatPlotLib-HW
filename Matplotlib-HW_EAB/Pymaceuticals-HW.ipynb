{
 "cells": [
  {
   "cell_type": "markdown",
   "metadata": {},
   "source": [
    "## Observations and Insights "
   ]
  },
  {
   "cell_type": "markdown",
   "metadata": {},
   "source": [
    "(1) From the boxplot, it appears that, of the four most promsing drug regimens, mice treated with Capomulin and Ramicane had significantly lower final tumor volumes than those treated with  Infubinol or Ceftamin. While the means and medians for each drug regimen were relatively close (within about 10 mm^3), these two treatments had noticeably lower standard deviation, meaning that they were more consistently effective for mice in their respective groups. \n",
    "\n",
    "(2) The positive slope in the regression line indicates that there is a positive correlation between mouse weight and tumor volume for mice treated with Capomulin. For every additional unit of weight a given mouse weighs, we predict that the average tumor volume goes up by 0.95mm^3.\n",
    "\n",
    "(3) Looking at the tumor volume for Mouse l509 across timepoints, the tumor volume has a general downward trend--adding to evidence that Capomulin is effective. Interestingly, however the tumor did not only shrink; at certain timepoints, there was a recorded increase. "
   ]
  },
  {
   "cell_type": "markdown",
   "metadata": {},
   "source": []
  },
  {
   "cell_type": "code",
   "execution_count": 1,
   "metadata": {},
   "outputs": [],
   "source": [
    "# Dependencies\n",
    "import os\n",
    "import matplotlib.pyplot as plt\n",
    "import pandas as pd\n",
    "from scipy import stats\n",
    "import numpy as np\n",
    "\n",
    "# Data files\n",
    "mouse_metadata_path  = os.path.join(\"Resources\", \"Mouse_metadata.csv\")\n",
    "study_results_path = os.path.join(\"Resources\", \"Study_results.csv\")\n",
    "\n",
    "# Read the mouse data and the study results\n",
    "mouse_metadata = pd.read_csv(mouse_metadata_path)\n",
    "study_results = pd.read_csv(study_results_path)\n",
    "\n",
    "# Combine the data into a single dataset\n",
    "mouse_study_merge = pd.merge(mouse_metadata, study_results, how=\"left\", on=[\"Mouse ID\", \"Mouse ID\"])"
   ]
  },
  {
   "cell_type": "code",
   "execution_count": 2,
   "metadata": {
    "scrolled": true
   },
   "outputs": [
    {
     "data": {
      "text/plain": [
       "g989    13\n",
       "q511    10\n",
       "o562    10\n",
       "w575    10\n",
       "a644    10\n",
       "Name: Mouse ID, dtype: int64"
      ]
     },
     "execution_count": 2,
     "metadata": {},
     "output_type": "execute_result"
    }
   ],
   "source": [
    "# Check the number of mice in the DataFrame.\n",
    "mouse_study_merge['Mouse ID'].value_counts().head()"
   ]
  },
  {
   "cell_type": "code",
   "execution_count": 24,
   "metadata": {},
   "outputs": [
    {
     "data": {
      "text/html": [
       "<div>\n",
       "<style scoped>\n",
       "    .dataframe tbody tr th:only-of-type {\n",
       "        vertical-align: middle;\n",
       "    }\n",
       "\n",
       "    .dataframe tbody tr th {\n",
       "        vertical-align: top;\n",
       "    }\n",
       "\n",
       "    .dataframe thead th {\n",
       "        text-align: right;\n",
       "    }\n",
       "</style>\n",
       "<table border=\"1\" class=\"dataframe\">\n",
       "  <thead>\n",
       "    <tr style=\"text-align: right;\">\n",
       "      <th></th>\n",
       "      <th>Mouse ID</th>\n",
       "      <th>Drug Regimen</th>\n",
       "      <th>Sex</th>\n",
       "      <th>Age_months</th>\n",
       "      <th>Weight (g)</th>\n",
       "      <th>Timepoint</th>\n",
       "      <th>Tumor Volume (mm3)</th>\n",
       "      <th>Metastatic Sites</th>\n",
       "    </tr>\n",
       "  </thead>\n",
       "  <tbody>\n",
       "    <tr>\n",
       "      <th>909</th>\n",
       "      <td>g989</td>\n",
       "      <td>Propriva</td>\n",
       "      <td>Female</td>\n",
       "      <td>21</td>\n",
       "      <td>26</td>\n",
       "      <td>0</td>\n",
       "      <td>45.000000</td>\n",
       "      <td>0</td>\n",
       "    </tr>\n",
       "    <tr>\n",
       "      <th>911</th>\n",
       "      <td>g989</td>\n",
       "      <td>Propriva</td>\n",
       "      <td>Female</td>\n",
       "      <td>21</td>\n",
       "      <td>26</td>\n",
       "      <td>5</td>\n",
       "      <td>47.570392</td>\n",
       "      <td>0</td>\n",
       "    </tr>\n",
       "    <tr>\n",
       "      <th>913</th>\n",
       "      <td>g989</td>\n",
       "      <td>Propriva</td>\n",
       "      <td>Female</td>\n",
       "      <td>21</td>\n",
       "      <td>26</td>\n",
       "      <td>10</td>\n",
       "      <td>49.880528</td>\n",
       "      <td>0</td>\n",
       "    </tr>\n",
       "    <tr>\n",
       "      <th>915</th>\n",
       "      <td>g989</td>\n",
       "      <td>Propriva</td>\n",
       "      <td>Female</td>\n",
       "      <td>21</td>\n",
       "      <td>26</td>\n",
       "      <td>15</td>\n",
       "      <td>53.442020</td>\n",
       "      <td>0</td>\n",
       "    </tr>\n",
       "    <tr>\n",
       "      <th>917</th>\n",
       "      <td>g989</td>\n",
       "      <td>Propriva</td>\n",
       "      <td>Female</td>\n",
       "      <td>21</td>\n",
       "      <td>26</td>\n",
       "      <td>20</td>\n",
       "      <td>54.657650</td>\n",
       "      <td>1</td>\n",
       "    </tr>\n",
       "  </tbody>\n",
       "</table>\n",
       "</div>"
      ],
      "text/plain": [
       "    Mouse ID Drug Regimen     Sex  Age_months  Weight (g)  Timepoint  \\\n",
       "909     g989     Propriva  Female          21          26          0   \n",
       "911     g989     Propriva  Female          21          26          5   \n",
       "913     g989     Propriva  Female          21          26         10   \n",
       "915     g989     Propriva  Female          21          26         15   \n",
       "917     g989     Propriva  Female          21          26         20   \n",
       "\n",
       "     Tumor Volume (mm3)  Metastatic Sites  \n",
       "909           45.000000                 0  \n",
       "911           47.570392                 0  \n",
       "913           49.880528                 0  \n",
       "915           53.442020                 0  \n",
       "917           54.657650                 1  "
      ]
     },
     "execution_count": 24,
     "metadata": {},
     "output_type": "execute_result"
    }
   ],
   "source": [
    "# Get the duplicate mice by ID number that shows up for Mouse ID and Timepoint\n",
    "duplicate_data=mouse_study_merge[mouse_study_merge.duplicated(subset=[\"Timepoint\",\"Mouse ID\"],keep=\"first\")]\n",
    "duplicate_data"
   ]
  },
  {
   "cell_type": "code",
   "execution_count": 25,
   "metadata": {},
   "outputs": [],
   "source": [
    "# Create a clean DataFrame by dropping the duplicate mouse by its ID.\n",
    "complete_data = mouse_study_merge[mouse_study_merge['Mouse ID'] != 'g989']"
   ]
  },
  {
   "cell_type": "code",
   "execution_count": 26,
   "metadata": {},
   "outputs": [
    {
     "data": {
      "text/plain": [
       "Mouse ID              1880\n",
       "Drug Regimen          1880\n",
       "Sex                   1880\n",
       "Age_months            1880\n",
       "Weight (g)            1880\n",
       "Timepoint             1880\n",
       "Tumor Volume (mm3)    1880\n",
       "Metastatic Sites      1880\n",
       "dtype: int64"
      ]
     },
     "execution_count": 26,
     "metadata": {},
     "output_type": "execute_result"
    }
   ],
   "source": [
    "# Check the number of mice in the clean DataFrame\n",
    "complete_data.count()"
   ]
  },
  {
   "cell_type": "markdown",
   "metadata": {},
   "source": [
    "## Summary Statistics"
   ]
  },
  {
   "cell_type": "code",
   "execution_count": 6,
   "metadata": {},
   "outputs": [],
   "source": [
    "# Generate summary statistics mean, median, variance, standard deviation, and SEM of the tumor volume\n",
    "mean = complete_data.groupby('Drug Regimen').mean()['Tumor Volume (mm3)']\n",
    "median = complete_data.groupby('Drug Regimen').median()['Tumor Volume (mm3)']\n",
    "var = complete_data.groupby('Drug Regimen').var()['Tumor Volume (mm3)']\n",
    "st_dev = complete_data.groupby('Drug Regimen').std()['Tumor Volume (mm3)']\n",
    "SEM = complete_data.groupby('Drug Regimen').sem()['Tumor Volume (mm3)']\n"
   ]
  },
  {
   "cell_type": "code",
   "execution_count": 7,
   "metadata": {
    "scrolled": true
   },
   "outputs": [
    {
     "data": {
      "text/html": [
       "<div>\n",
       "<style scoped>\n",
       "    .dataframe tbody tr th:only-of-type {\n",
       "        vertical-align: middle;\n",
       "    }\n",
       "\n",
       "    .dataframe tbody tr th {\n",
       "        vertical-align: top;\n",
       "    }\n",
       "\n",
       "    .dataframe thead tr th {\n",
       "        text-align: left;\n",
       "    }\n",
       "\n",
       "    .dataframe thead tr:last-of-type th {\n",
       "        text-align: right;\n",
       "    }\n",
       "</style>\n",
       "<table border=\"1\" class=\"dataframe\">\n",
       "  <thead>\n",
       "    <tr>\n",
       "      <th></th>\n",
       "      <th colspan=\"5\" halign=\"left\">Tumor Volume (mm3)</th>\n",
       "    </tr>\n",
       "    <tr>\n",
       "      <th></th>\n",
       "      <th>mean</th>\n",
       "      <th>median</th>\n",
       "      <th>var</th>\n",
       "      <th>std</th>\n",
       "      <th>sem</th>\n",
       "    </tr>\n",
       "    <tr>\n",
       "      <th>Drug Regimen</th>\n",
       "      <th></th>\n",
       "      <th></th>\n",
       "      <th></th>\n",
       "      <th></th>\n",
       "      <th></th>\n",
       "    </tr>\n",
       "  </thead>\n",
       "  <tbody>\n",
       "    <tr>\n",
       "      <th>Capomulin</th>\n",
       "      <td>40.675741</td>\n",
       "      <td>41.557809</td>\n",
       "      <td>24.947764</td>\n",
       "      <td>4.994774</td>\n",
       "      <td>0.329346</td>\n",
       "    </tr>\n",
       "    <tr>\n",
       "      <th>Ceftamin</th>\n",
       "      <td>52.591172</td>\n",
       "      <td>51.776157</td>\n",
       "      <td>39.290177</td>\n",
       "      <td>6.268188</td>\n",
       "      <td>0.469821</td>\n",
       "    </tr>\n",
       "    <tr>\n",
       "      <th>Infubinol</th>\n",
       "      <td>52.884795</td>\n",
       "      <td>51.820584</td>\n",
       "      <td>43.128684</td>\n",
       "      <td>6.567243</td>\n",
       "      <td>0.492236</td>\n",
       "    </tr>\n",
       "    <tr>\n",
       "      <th>Ketapril</th>\n",
       "      <td>55.235638</td>\n",
       "      <td>53.698743</td>\n",
       "      <td>68.553577</td>\n",
       "      <td>8.279709</td>\n",
       "      <td>0.603860</td>\n",
       "    </tr>\n",
       "    <tr>\n",
       "      <th>Naftisol</th>\n",
       "      <td>54.331565</td>\n",
       "      <td>52.509285</td>\n",
       "      <td>66.173479</td>\n",
       "      <td>8.134708</td>\n",
       "      <td>0.596466</td>\n",
       "    </tr>\n",
       "    <tr>\n",
       "      <th>Placebo</th>\n",
       "      <td>54.033581</td>\n",
       "      <td>52.288934</td>\n",
       "      <td>61.168083</td>\n",
       "      <td>7.821003</td>\n",
       "      <td>0.581331</td>\n",
       "    </tr>\n",
       "    <tr>\n",
       "      <th>Propriva</th>\n",
       "      <td>52.320930</td>\n",
       "      <td>50.446266</td>\n",
       "      <td>43.852013</td>\n",
       "      <td>6.622085</td>\n",
       "      <td>0.544332</td>\n",
       "    </tr>\n",
       "    <tr>\n",
       "      <th>Ramicane</th>\n",
       "      <td>40.216745</td>\n",
       "      <td>40.673236</td>\n",
       "      <td>23.486704</td>\n",
       "      <td>4.846308</td>\n",
       "      <td>0.320955</td>\n",
       "    </tr>\n",
       "    <tr>\n",
       "      <th>Stelasyn</th>\n",
       "      <td>54.233149</td>\n",
       "      <td>52.431737</td>\n",
       "      <td>59.450562</td>\n",
       "      <td>7.710419</td>\n",
       "      <td>0.573111</td>\n",
       "    </tr>\n",
       "    <tr>\n",
       "      <th>Zoniferol</th>\n",
       "      <td>53.236507</td>\n",
       "      <td>51.818479</td>\n",
       "      <td>48.533355</td>\n",
       "      <td>6.966589</td>\n",
       "      <td>0.516398</td>\n",
       "    </tr>\n",
       "  </tbody>\n",
       "</table>\n",
       "</div>"
      ],
      "text/plain": [
       "             Tumor Volume (mm3)                                          \n",
       "                           mean     median        var       std       sem\n",
       "Drug Regimen                                                             \n",
       "Capomulin             40.675741  41.557809  24.947764  4.994774  0.329346\n",
       "Ceftamin              52.591172  51.776157  39.290177  6.268188  0.469821\n",
       "Infubinol             52.884795  51.820584  43.128684  6.567243  0.492236\n",
       "Ketapril              55.235638  53.698743  68.553577  8.279709  0.603860\n",
       "Naftisol              54.331565  52.509285  66.173479  8.134708  0.596466\n",
       "Placebo               54.033581  52.288934  61.168083  7.821003  0.581331\n",
       "Propriva              52.320930  50.446266  43.852013  6.622085  0.544332\n",
       "Ramicane              40.216745  40.673236  23.486704  4.846308  0.320955\n",
       "Stelasyn              54.233149  52.431737  59.450562  7.710419  0.573111\n",
       "Zoniferol             53.236507  51.818479  48.533355  6.966589  0.516398"
      ]
     },
     "execution_count": 7,
     "metadata": {},
     "output_type": "execute_result"
    }
   ],
   "source": [
    "# Generate a summary statistics table for each regimen\n",
    "complete_data.groupby(\"Drug Regimen\").agg({\"Tumor Volume (mm3)\":\n",
    "                                           [\"mean\",\"median\",\"var\",\"std\",\"sem\"]})"
   ]
  },
  {
   "cell_type": "markdown",
   "metadata": {},
   "source": [
    "## Bar Plots"
   ]
  },
  {
   "cell_type": "code",
   "execution_count": 8,
   "metadata": {},
   "outputs": [
    {
     "data": {
      "image/png": "[encoded data removed]",
      "text/plain": [
       "<Figure size 432x288 with 1 Axes>"
      ]
     },
     "metadata": {
      "needs_background": "light"
     },
     "output_type": "display_data"
    }
   ],
   "source": [
    "# Generate a bar plot showing the number of mice per time point for each treatment throughout the course of the study using pandas.\n",
    "#Create data_points by counting the data\n",
    "data_points = pd.DataFrame(complete_data.groupby(\"Drug Regimen\")[\"Drug Regimen\"].count())\n",
    "\n",
    "bar_pandas = data_points.plot(kind=\"bar\",\n",
    "                              title=\"Number of Mice for each Treatment\")\n",
    "\n",
    "#Format the Figure\n",
    "bar_pandas.set_xlabel(\"Drug Regimen\")\n",
    "bar_pandas.set_ylabel(\"Number of Data Points\")\n",
    "\n",
    "#Save the figure to Images\n",
    "plt.savefig(\"Images/PandaBarPlot.png\")"
   ]
  },
  {
   "cell_type": "code",
   "execution_count": 9,
   "metadata": {},
   "outputs": [
    {
     "data": {
      "image/png": "[encoded data removed]",
      "text/plain": [
       "<Figure size 432x288 with 1 Axes>"
      ]
     },
     "metadata": {
      "needs_background": "light"
     },
     "output_type": "display_data"
    }
   ],
   "source": [
    "# Generate a bar plot showing the number of mice per time point for each treatment throughout the course of the study using pyplot.\n",
    "\n",
    "#Set up x_axis and x ticks\n",
    "x_axis = np.arange(len(data_points))\n",
    "tick_labels = [value for value in x_axis]\n",
    "\n",
    "bar_pyplot = plt.bar(x_axis, \n",
    "                     data_points[\"Drug Regimen\"], \n",
    "                     align=\"center\", \n",
    "                     width = 0.55)\n",
    "#Format the Figure\n",
    "plt.xticks(tick_labels, list(data_points.index), rotation=\"vertical\")\n",
    "plt.title(\"Number of Mice for each Treatment\")\n",
    "plt.xlabel(\"Drug Regimen\")\n",
    "plt.ylabel(\"Number of Data Points\")\n",
    "\n",
    "#Save the figure to Images\n",
    "plt.savefig(\"Images/PyPlotBarPlot.png\")"
   ]
  },
  {
   "cell_type": "markdown",
   "metadata": {},
   "source": [
    "## Pie Plots"
   ]
  },
  {
   "cell_type": "code",
   "execution_count": 10,
   "metadata": {},
   "outputs": [
    {
     "data": {
      "image/png": "[encoded data removed]",
      "text/plain": [
       "<Figure size 432x288 with 1 Axes>"
      ]
     },
     "metadata": {},
     "output_type": "display_data"
    }
   ],
   "source": [
    "# Generate a pie plot showing the distribution of female versus male mice using pandas\n",
    "#Group the data by the sex of the mice\n",
    "mouse_sex = pd.DataFrame(complete_data.groupby(\"Sex\")[\"Sex\"].count())\n",
    "\n",
    "pie_pandas = mouse_sex.plot(kind=\"pie\",\n",
    "                            y=\"Sex\", \n",
    "                            title= \"Distribution of Female versus Male mice\", \n",
    "                            autopct='%1.1f%%')\n",
    "#Save the figure to Images\n",
    "plt.savefig(\"Images/PandaPiePlot.png\")"
   ]
  },
  {
   "cell_type": "code",
   "execution_count": 11,
   "metadata": {},
   "outputs": [
    {
     "name": "stderr",
     "output_type": "stream",
     "text": [
      "/opt/anaconda3/lib/python3.7/site-packages/ipykernel_launcher.py:5: MatplotlibDeprecationWarning: Non-1D inputs to pie() are currently squeeze()d, but this behavior is deprecated since 3.1 and will be removed in 3.3; pass a 1D array instead.\n",
      "  \"\"\"\n"
     ]
    },
    {
     "data": {
      "image/png": "[encoded data removed]",
      "text/plain": [
       "<Figure size 432x288 with 1 Axes>"
      ]
     },
     "metadata": {},
     "output_type": "display_data"
    }
   ],
   "source": [
    "# Generate a pie plot showing the distribution of female versus male mice using pyplot\n",
    "pie_labels = [\"Female\",\"Male\"]\n",
    "pie_pyplot = plt.pie(mouse_sex, \n",
    "                     labels=pie_labels, \n",
    "                     autopct=\"%1.1f%%\")\n",
    "#Format the Figure\n",
    "plt.title(\"Distribution of Female versus Male mice\")\n",
    "\n",
    "#Save the figure to Images\n",
    "plt.savefig(\"Images/PyPlotPiePlot.png\")"
   ]
  },
  {
   "cell_type": "markdown",
   "metadata": {},
   "source": [
    "## Quartiles, Outliers and Boxplots"
   ]
  },
  {
   "cell_type": "code",
   "execution_count": 12,
   "metadata": {},
   "outputs": [],
   "source": [
    "#Create Subset of complete_data for four most promising treatments (\"Capomulin\", \"Ramicane\", \"Infubinol\",\"Ceftamin\")\n",
    "capomulin = complete_data.loc[complete_data[\"Drug Regimen\"] == \"Capomulin\"]\n",
    "ramicane = complete_data.loc[complete_data[\"Drug Regimen\"] == \"Ramicane\"]\n",
    "infubinol = complete_data.loc[complete_data[\"Drug Regimen\"] == \"Infubinol\"]\n",
    "ceftamin = complete_data.loc[complete_data[\"Drug Regimen\"] == \"Ceftamin\"]\n",
    "\n",
    "#Find final tumor volume for four treatments (Final is at Timepoint = 45)\n",
    "cap_final = capomulin.loc[capomulin[\"Timepoint\"]== 45][\"Tumor Volume (mm3)\"]\n",
    "ram_final = ramicane.loc[ramicane[\"Timepoint\"] == 45][\"Tumor Volume (mm3)\"]\n",
    "inf_final = infubinol.loc[infubinol[\"Timepoint\"] == 45][\"Tumor Volume (mm3)\"]\n",
    "cef_final = ceftamin.loc[ceftamin[\"Timepoint\"] == 45][\"Tumor Volume (mm3)\"]\n",
    "\n",
    "\n",
    "#Put together data list\n",
    "four_treatments = [cap_final, ram_final, inf_final, cef_final]\n",
    "treatment_labels = [\"Capomulin\", \"Ramicane\", \"Infubinol\",\"Ceftamin\"]"
   ]
  },
  {
   "cell_type": "code",
   "execution_count": 13,
   "metadata": {},
   "outputs": [
    {
     "name": "stdout",
     "output_type": "stream",
     "text": [
      "7.781863460000004\n",
      "20.70456164999999 51.83201549\n",
      "None of the values for Capomulin fall outside of the outlier bounds.\n"
     ]
    }
   ],
   "source": [
    "#Calculate IQR and Outlier thresholds for Capomulin\n",
    "cap_quartiles = cap_final.quantile([.25,.5,.75])\n",
    "cap_lowerq = cap_quartiles[0.25]\n",
    "cap_upperq = cap_quartiles[0.75]\n",
    "cap_iqr = cap_upperq-cap_lowerq\n",
    "cap_lower_bound = cap_lowerq - (1.5*cap_iqr)\n",
    "cap_upper_bound = cap_upperq + (1.5*cap_iqr)\n",
    "\n",
    "print(cap_iqr)\n",
    "print(cap_lower_bound, cap_upper_bound)\n",
    "\n",
    "#Check for outliers:\n",
    "#cap_final,\n",
    "print(\"None of the values for Capomulin fall outside of the outlier bounds.\")"
   ]
  },
  {
   "cell_type": "code",
   "execution_count": 14,
   "metadata": {},
   "outputs": [
    {
     "name": "stdout",
     "output_type": "stream",
     "text": [
      "7.527130082499998\n",
      "19.690480101250003 49.79900043124999\n",
      "None of the values for Ramicane fall outside of the outlier bounds.\n"
     ]
    }
   ],
   "source": [
    "#Calculate IQR and Outlier thresholds for Ramicane\n",
    "ram_quartiles = ram_final.quantile([.25,.5,.75])\n",
    "ram_lowerq = ram_quartiles[0.25]\n",
    "ram_upperq = ram_quartiles[0.75]\n",
    "ram_iqr = ram_upperq-ram_lowerq\n",
    "ram_lower_bound = ram_lowerq - (1.5*ram_iqr)\n",
    "ram_upper_bound = ram_upperq + (1.5*ram_iqr)\n",
    "\n",
    "print(ram_iqr)\n",
    "print(ram_lower_bound, ram_upper_bound)\n",
    "\n",
    "#Check for outliers:\n",
    "#ram_final\n",
    "print(\"None of the values for Ramicane fall outside of the outlier bounds.\")"
   ]
  },
  {
   "cell_type": "code",
   "execution_count": 23,
   "metadata": {},
   "outputs": [
    {
     "name": "stdout",
     "output_type": "stream",
     "text": [
      "4.9311172099999965\n",
      "55.35777559500001 75.08224443499999\n",
      "None of the values for Infubinol fall outside of the outlier bounds.\n"
     ]
    }
   ],
   "source": [
    "#Calculate IQR and Outlier thresholds for Infubinol\n",
    "inf_quartiles = inf_final.quantile([.25,.5,.75])\n",
    "inf_lowerq = inf_quartiles[0.25]\n",
    "inf_upperq = inf_quartiles[0.75]\n",
    "inf_iqr = inf_upperq-inf_lowerq\n",
    "inf_lower_bound = inf_lowerq - (1.5*inf_iqr)\n",
    "inf_upper_bound = inf_upperq + (1.5*inf_iqr)\n",
    "\n",
    "print(inf_iqr)\n",
    "print(inf_lower_bound, inf_upper_bound)\n",
    "\n",
    "#Check for outliers:\n",
    "#inf_final\n",
    "print(\"None of the values for Infubinol fall outside of the outlier bounds.\")"
   ]
  },
  {
   "cell_type": "code",
   "execution_count": 21,
   "metadata": {},
   "outputs": [
    {
     "name": "stdout",
     "output_type": "stream",
     "text": [
      "6.093590140000003\n",
      "52.29350701999999 76.66786758\n"
     ]
    },
    {
     "data": {
      "text/plain": [
       "493     62.999356\n",
       "993     61.849023\n",
       "1033    68.923185\n",
       "1112    67.748662\n",
       "1132    59.851956\n",
       "1162    64.299830\n",
       "1260    59.741901\n",
       "1379    61.433892\n",
       "1670    67.527482\n",
       "1773    64.634949\n",
       "1797    61.386660\n",
       "1845    68.594745\n",
       "1855    64.729837\n",
       "Name: Tumor Volume (mm3), dtype: float64"
      ]
     },
     "execution_count": 21,
     "metadata": {},
     "output_type": "execute_result"
    }
   ],
   "source": [
    "#Calculate IQR and Outlier thresholds for Ceftamin\n",
    "cef_quartiles = cef_final.quantile([.25,.5,.75])\n",
    "cef_lowerq = cef_quartiles[0.25]\n",
    "cef_upperq = cef_quartiles[0.75]\n",
    "cef_iqr = cef_upperq-cef_lowerq\n",
    "cef_lower_bound = cef_lowerq - (1.5*cef_iqr)\n",
    "cef_upper_bound = cef_upperq + (1.5*cef_iqr)\n",
    "\n",
    "print(cef_iqr)\n",
    "print(cef_lower_bound, cef_upper_bound)\n",
    "\n",
    "#Check for outliers:\n",
    "#cef_final\n",
    "print(\"None of the values for Ceftamin fall outside of the outlier bounds.\")"
   ]
  },
  {
   "cell_type": "code",
   "execution_count": 17,
   "metadata": {},
   "outputs": [
    {
     "data": {
      "image/png": "[encoded data removed]",
      "text/plain": [
       "<Figure size 432x288 with 1 Axes>"
      ]
     },
     "metadata": {
      "needs_background": "light"
     },
     "output_type": "display_data"
    }
   ],
   "source": [
    "# Generate a box plot of the final tumor volume of each mouse across four regimens of interest\n",
    "fig1, ax1 = plt.subplots()\n",
    "boxplot = ax1.boxplot(four_treatments,labels=treatment_labels)\n",
    "\n",
    "#Save the figure to Images\n",
    "plt.savefig(\"Images/BoxPlot.png\")"
   ]
  },
  {
   "cell_type": "markdown",
   "metadata": {},
   "source": [
    "## Line and Scatter Plots"
   ]
  },
  {
   "cell_type": "code",
   "execution_count": 18,
   "metadata": {
    "scrolled": true
   },
   "outputs": [
    {
     "data": {
      "image/png": "[encoded data removed]",
      "text/plain": [
       "<Figure size 432x288 with 1 Axes>"
      ]
     },
     "metadata": {
      "needs_background": "light"
     },
     "output_type": "display_data"
    }
   ],
   "source": [
    "# Generate a line plot of time point versus tumor volume for a mouse treated with Capomulin\n",
    "\n",
    "x_timepoint = capomulin.loc[capomulin[\"Mouse ID\"]==\"l509\"][\"Timepoint\"]\n",
    "y_tumor = capomulin.loc[capomulin[\"Mouse ID\"]==\"l509\"][\"Tumor Volume (mm3)\"]\n",
    "\n",
    "plt.plot(x_timepoint,y_tumor)\n",
    "\n",
    "#Format the Figure\n",
    "plt.xlabel(\"Timepoint\")\n",
    "plt.ylabel(\"Tumor Volume(mm3)\")\n",
    "plt.title (\"Tumor Volume across Timepoint for Mouse l509\")\n",
    "\n",
    "#Save the figure to Images\n",
    "plt.savefig(\"Images/LinePlot.png\")"
   ]
  },
  {
   "cell_type": "code",
   "execution_count": 19,
   "metadata": {},
   "outputs": [
    {
     "data": {
      "image/png": "[encoded data removed]",
      "text/plain": [
       "<Figure size 432x288 with 1 Axes>"
      ]
     },
     "metadata": {
      "needs_background": "light"
     },
     "output_type": "display_data"
    }
   ],
   "source": [
    "# Generate a scatter plot of mouse weight versus average tumor volume for the Capomulin regimen\n",
    "cap_weight_mean = capomulin.groupby('Mouse ID').mean()['Weight (g)']\n",
    "cap_tumor_mean = capomulin.groupby('Mouse ID').mean()['Tumor Volume (mm3)']\n",
    "\n",
    "plt.scatter(cap_weight_mean,cap_tumor_mean)\n",
    "\n",
    "#Format the Figure\n",
    "plt.xlabel(\"Mouse Weight\")\n",
    "plt.ylabel(\"Average Tumor Volume\")\n",
    "plt.title(\"Tumor Volume versus Mouse Weight for Capomulin Treatment Group\")\n",
    "\n",
    "#Save the figure to Images\n",
    "plt.savefig(\"Images/ScatterPlot.png\")"
   ]
  },
  {
   "cell_type": "markdown",
   "metadata": {},
   "source": [
    "## Correlation and Regression"
   ]
  },
  {
   "cell_type": "code",
   "execution_count": 28,
   "metadata": {},
   "outputs": [
    {
     "data": {
      "image/png": "[encoded data removed]",
      "text/plain": [
       "<Figure size 432x288 with 1 Axes>"
      ]
     },
     "metadata": {
      "needs_background": "light"
     },
     "output_type": "display_data"
    }
   ],
   "source": [
    "# Calculate the correlation coefficient\n",
    "r = stats.pearsonr(cap_weight_mean,cap_tumor_mean)\n",
    "rsq = r[1]\n",
    "\n",
    "#Run Linear Regression\n",
    "(slope, intercept, rvalue, pvalue, stderr) = stats.linregress(cap_weight_mean, cap_tumor_mean)\n",
    "regress_values = cap_weight_mean * slope + intercept\n",
    "line_eq = \"y = \" + str(round(slope,2)) + \"x + \" + str(round(intercept,2))\n",
    "\n",
    "\n",
    "plt.scatter(cap_weight_mean,cap_tumor_mean)\n",
    "plt.plot(cap_weight_mean,regress_values,\"r-\")\n",
    "\n",
    "#Format the Figure\n",
    "plt.xlabel(\"Mouse Weight\")\n",
    "plt.ylabel(\"Average Tumor Volume\")\n",
    "plt.title(\"Tumor Volume versus Mouse Weight for Capomulin Treatment Group\")\n",
    "\n",
    "#Save the figure to Images\n",
    "plt.savefig(\"Images/RegressionPlot.png\")"
   ]
  },
  {
   "cell_type": "code",
   "execution_count": 29,
   "metadata": {},
   "outputs": [
    {
     "name": "stdout",
     "output_type": "stream",
     "text": [
      "The regression line equation is y = 0.95x + 21.55\n",
      "The correlation coefficient is 1.322572243471279e-07\n"
     ]
    }
   ],
   "source": [
    "print(f\"The regression line equation is {line_eq}\")\n",
    "print(f\"The correlation coefficient is {rsq}\")"
   ]
  },
  {
   "cell_type": "code",
   "execution_count": null,
   "metadata": {},
   "outputs": [],
   "source": []
  },
  {
   "cell_type": "code",
   "execution_count": null,
   "metadata": {},
   "outputs": [],
   "source": []
  }
 ],
 "metadata": {
  "anaconda-cloud": {},
  "kernelspec": {
   "display_name": "Python 3",
   "language": "python",
   "name": "python3"
  },
  "language_info": {
   "codemirror_mode": {
    "name": "ipython",
    "version": 3
   },
   "file_extension": ".py",
   "mimetype": "text/x-python",
   "name": "python",
   "nbconvert_exporter": "python",
   "pygments_lexer": "ipython3",
   "version": "3.7.6"
  }
 },
 "nbformat": 4,
 "nbformat_minor": 2
}
